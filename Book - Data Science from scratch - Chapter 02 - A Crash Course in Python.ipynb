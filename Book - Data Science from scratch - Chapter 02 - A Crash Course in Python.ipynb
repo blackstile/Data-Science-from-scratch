{
 "cells": [
  {
   "cell_type": "markdown",
   "metadata": {},
   "source": [
    "# Chapter 02 - A Crash Course in Python"
   ]
  },
  {
   "cell_type": "code",
   "execution_count": 1,
   "metadata": {},
   "outputs": [
    {
     "name": "stdout",
     "output_type": "stream",
     "text": [
      "The Zen of Python, by Tim Peters\n",
      "\n",
      "Beautiful is better than ugly.\n",
      "Explicit is better than implicit.\n",
      "Simple is better than complex.\n",
      "Complex is better than complicated.\n",
      "Flat is better than nested.\n",
      "Sparse is better than dense.\n",
      "Readability counts.\n",
      "Special cases aren't special enough to break the rules.\n",
      "Although practicality beats purity.\n",
      "Errors should never pass silently.\n",
      "Unless explicitly silenced.\n",
      "In the face of ambiguity, refuse the temptation to guess.\n",
      "There should be one-- and preferably only one --obvious way to do it.\n",
      "Although that way may not be obvious at first unless you're Dutch.\n",
      "Now is better than never.\n",
      "Although never is often better than *right* now.\n",
      "If the implementation is hard to explain, it's a bad idea.\n",
      "If the implementation is easy to explain, it may be a good idea.\n",
      "Namespaces are one honking great idea -- let's do more of those!\n"
     ]
    }
   ],
   "source": [
    "import this"
   ]
  },
  {
   "cell_type": "code",
   "execution_count": 3,
   "metadata": {},
   "outputs": [
    {
     "name": "stdout",
     "output_type": "stream",
     "text": [
      "1\n",
      "1\n",
      "2\n",
      "2\n",
      "3\n",
      "3\n",
      "4\n",
      "4\n",
      "5\n",
      "5\n",
      "6\n",
      "1\n",
      "2\n",
      "1\n",
      "3\n",
      "2\n",
      "4\n",
      "3\n",
      "5\n",
      "4\n",
      "6\n",
      "5\n",
      "7\n",
      "2\n",
      "3\n",
      "1\n",
      "4\n",
      "2\n",
      "5\n",
      "3\n",
      "6\n",
      "4\n",
      "7\n",
      "5\n",
      "8\n",
      "3\n",
      "4\n",
      "1\n",
      "5\n",
      "2\n",
      "6\n",
      "3\n",
      "7\n",
      "4\n",
      "8\n",
      "5\n",
      "9\n",
      "4\n",
      "5\n",
      "1\n",
      "6\n",
      "2\n",
      "7\n",
      "3\n",
      "8\n",
      "4\n",
      "9\n",
      "5\n",
      "10\n",
      "5\n",
      "done lopping\n"
     ]
    }
   ],
   "source": [
    "#python usa identação para fazer os blocos de códigos\n",
    "for i in [1,2,3,4,5]:\n",
    "    print i\n",
    "    for j in [1,2,3,4,5]:\n",
    "        print j \n",
    "        print i + j \n",
    "    print i\n",
    "print \"done lopping\""
   ]
  },
  {
   "cell_type": "code",
   "execution_count": 4,
   "metadata": {},
   "outputs": [],
   "source": [
    "list_of_list = [[1,2,3], [4,5,6],[7,8,9]]\n",
    "easy_to_read_list_of_list = [[1,2,3],\n",
    "                             [4,5,6],\n",
    "                             [7,8,9]]\n"
   ]
  },
  {
   "cell_type": "code",
   "execution_count": 6,
   "metadata": {},
   "outputs": [
    {
     "data": {
      "text/plain": [
       "5"
      ]
     },
     "execution_count": 6,
     "metadata": {},
     "output_type": "execute_result"
    }
   ],
   "source": [
    "#usando barra invertida para indicar que continua na próxima linha\n",
    "two_plus_three = 2 + \\\n",
    "                 3\n",
    "two_plus_three"
   ]
  },
  {
   "cell_type": "markdown",
   "metadata": {},
   "source": [
    "# Working with modules"
   ]
  },
  {
   "cell_type": "code",
   "execution_count": 8,
   "metadata": {},
   "outputs": [],
   "source": [
    "#importacao de modulos\n",
    "#importando todo o modo re de regex\n",
    "import re\n",
    "my_regex = re.compile(\"[0-9]+\", re.I)"
   ]
  },
  {
   "cell_type": "code",
   "execution_count": 10,
   "metadata": {},
   "outputs": [],
   "source": [
    "#dando um alias para o modulo re, chamando de regex\n",
    "import re as regex\n",
    "my_regex =  regex.compile(\"[0-9]+\", regex.I)"
   ]
  },
  {
   "cell_type": "code",
   "execution_count": 11,
   "metadata": {},
   "outputs": [],
   "source": [
    "import matplotlib.pyplot as plt\n",
    "\n",
    "# you can import them explicitly and use them without qualification\n",
    "from collections import Counter, defaultdict\n",
    "lookup  = defaultdict(int)\n",
    "my_counter = Counter()\n"
   ]
  },
  {
   "cell_type": "code",
   "execution_count": 13,
   "metadata": {},
   "outputs": [
    {
     "name": "stdout",
     "output_type": "stream",
     "text": [
      "<function match at 0x01F17DF0>\n"
     ]
    }
   ],
   "source": [
    "#If you were a bad person, you could import the entire contents of a module into your\n",
    "# inadvertently overwrite variables you’ve already defined\n",
    "match = 0 \n",
    "from re import *\n",
    "print match #imprime a funcao match do modulo re"
   ]
  },
  {
   "cell_type": "code",
   "execution_count": 1,
   "metadata": {},
   "outputs": [
    {
     "name": "stdout",
     "output_type": "stream",
     "text": [
      "2\n"
     ]
    }
   ],
   "source": [
    "#Python 2.7 uses integer division by default, so that 5 / 2 equals 2. \n",
    "#Almost always this is not what we want, so we will always start our files with\n",
    "print 5 / 2"
   ]
  },
  {
   "cell_type": "code",
   "execution_count": 2,
   "metadata": {},
   "outputs": [
    {
     "name": "stdout",
     "output_type": "stream",
     "text": [
      "2.5\n"
     ]
    }
   ],
   "source": [
    "#resolvendo o problema da divisao por inteiro, em python 3 a divisao nao tem esse problema\n",
    "from __future__ import division\n",
    "print 5 / 2"
   ]
  },
  {
   "cell_type": "markdown",
   "metadata": {},
   "source": [
    "# Functions"
   ]
  },
  {
   "cell_type": "code",
   "execution_count": 7,
   "metadata": {},
   "outputs": [],
   "source": [
    "#trabalhando com funções\n",
    "def double(x):\n",
    "    \"\"\"this is where you put an optional docstring\n",
    "    that explains what the function does.\n",
    "    for example, this function multiplies its input by 2\"\"\"\n",
    "    return x * 2"
   ]
  },
  {
   "cell_type": "code",
   "execution_count": 9,
   "metadata": {},
   "outputs": [
    {
     "data": {
      "text/plain": [
       "2"
      ]
     },
     "execution_count": 9,
     "metadata": {},
     "output_type": "execute_result"
    }
   ],
   "source": [
    "#Em python as funções são first-class, ou seja, permite que elas sejam atribuidas a variávies e também possam ser passadas como\n",
    "# parametro para uma outra função, permitindo o paradigma de programação funcional\n",
    "def apply_to_one(f):\n",
    "    return f(1)\n",
    "my_double = double \n",
    "x = apply_to_one(my_double)\n",
    "x"
   ]
  },
  {
   "cell_type": "code",
   "execution_count": 10,
   "metadata": {},
   "outputs": [
    {
     "data": {
      "text/plain": [
       "5"
      ]
     },
     "execution_count": 10,
     "metadata": {},
     "output_type": "execute_result"
    }
   ],
   "source": [
    "y = apply_to_one(lambda x : x + 4)\n",
    "y"
   ]
  },
  {
   "cell_type": "code",
   "execution_count": 12,
   "metadata": {},
   "outputs": [
    {
     "name": "stdout",
     "output_type": "stream",
     "text": [
      "My default message\n",
      "My new message\n"
     ]
    }
   ],
   "source": [
    "#Function parameters can also be given default arguments,\n",
    "def my_print(message=\"My default message\"):\n",
    "    print message\n",
    "\n",
    "my_print()\n",
    "my_print(\"My new message\")"
   ]
  },
  {
   "cell_type": "code",
   "execution_count": 29,
   "metadata": {},
   "outputs": [
    {
     "name": "stdout",
     "output_type": "stream",
     "text": [
      "5\n",
      "-5\n",
      "-5\n"
     ]
    }
   ],
   "source": [
    "def substract(a=0, b=0):\n",
    "    return a - b\n",
    "\n",
    "print substract(10, 5)\n",
    "print substract(0, 5)\n",
    "print substract(b=5)"
   ]
  },
  {
   "cell_type": "markdown",
   "metadata": {},
   "source": [
    "# Strings"
   ]
  },
  {
   "cell_type": "code",
   "execution_count": 17,
   "metadata": {},
   "outputs": [
    {
     "data": {
      "text/plain": [
       "1"
      ]
     },
     "execution_count": 17,
     "metadata": {},
     "output_type": "execute_result"
    }
   ],
   "source": [
    "#trabalhando com strings\n",
    "single_quoted_string = 'data science'\n",
    "double_quoted_string = \"data science\"\n",
    "\n",
    "tab_string = \"\\t\" # represents the tab character\n",
    "len(tab_string) # is 1\n"
   ]
  },
  {
   "cell_type": "code",
   "execution_count": 18,
   "metadata": {},
   "outputs": [
    {
     "data": {
      "text/plain": [
       "2"
      ]
     },
     "execution_count": 18,
     "metadata": {},
     "output_type": "execute_result"
    }
   ],
   "source": [
    "not_tab_string = r\"\\t\" # represents the characters '\\' and 't'\n",
    "len(not_tab_string) # is 2"
   ]
  },
  {
   "cell_type": "code",
   "execution_count": 28,
   "metadata": {},
   "outputs": [],
   "source": [
    "multi_line_string = \"\"\"This is the first line.\n",
    "and this is the second line\n",
    "and this is the third line\"\"\""
   ]
  },
  {
   "cell_type": "markdown",
   "metadata": {},
   "source": [
    "# Exception"
   ]
  },
  {
   "cell_type": "code",
   "execution_count": 24,
   "metadata": {},
   "outputs": [
    {
     "name": "stdout",
     "output_type": "stream",
     "text": [
      "cannot divide by zero\n"
     ]
    }
   ],
   "source": [
    "try:\n",
    "    print 0/0\n",
    "except ZeroDivisionError:\n",
    "    print \"cannot divide by zero\""
   ]
  },
  {
   "cell_type": "code",
   "execution_count": 27,
   "metadata": {},
   "outputs": [
    {
     "name": "stdout",
     "output_type": "stream",
     "text": [
      "I can catch any exception\n"
     ]
    }
   ],
   "source": [
    "try:\n",
    "    print a / 100\n",
    "except:\n",
    "    print \"I can catch any exception\""
   ]
  },
  {
   "cell_type": "markdown",
   "metadata": {},
   "source": [
    "# Lists"
   ]
  },
  {
   "cell_type": "code",
   "execution_count": 30,
   "metadata": {},
   "outputs": [
    {
     "name": "stdout",
     "output_type": "stream",
     "text": [
      "3\n",
      "6\n"
     ]
    }
   ],
   "source": [
    "integer_list = [ 1, 2, 3]\n",
    "heterogeneous_list = [\"String\", 0.1, True]\n",
    "empty_list = []\n",
    "list_of_lists = [ integer_list, heterogeneous_list, empty_list]\n",
    "\n",
    "list_length =  len(integer_list)\n",
    "list_sum = sum(integer_list)\n",
    "\n",
    "print list_length\n",
    "print list_sum"
   ]
  },
  {
   "cell_type": "code",
   "execution_count": 31,
   "metadata": {},
   "outputs": [
    {
     "data": {
      "text/plain": [
       "[0, 1, 2, 3, 4, 5, 6, 7, 8, 9]"
      ]
     },
     "execution_count": 31,
     "metadata": {},
     "output_type": "execute_result"
    }
   ],
   "source": [
    "x =  range(10)\n",
    "x"
   ]
  },
  {
   "cell_type": "code",
   "execution_count": 34,
   "metadata": {},
   "outputs": [],
   "source": [
    "zero = x[0]\n",
    "one = x[1]\n",
    "nine = x[-1]\n",
    "eight = x[-2]\n",
    "x[0] = -1"
   ]
  },
  {
   "cell_type": "code",
   "execution_count": 37,
   "metadata": {},
   "outputs": [
    {
     "name": "stdout",
     "output_type": "stream",
     "text": [
      "First Three:  [-1, 1, 2]\n",
      "Three to End:  [3, 4, 5, 6, 7, 8, 9]\n",
      "One to four: [1, 2, 3, 4]\n",
      "Last Three: [7, 8, 9]\n",
      "Without first and last: [1, 2, 3, 4, 5, 6, 7, 8]\n",
      "List copy of list x:  [-1, 1, 2, 3, 4, 5, 6, 7, 8, 9]\n"
     ]
    }
   ],
   "source": [
    "first_three = x[:3]\n",
    "print \"First Three: \" ,  first_three\n",
    "three_to_end = x[3:]\n",
    "print \"Three to End: \", three_to_end\n",
    "one_to_four = x[1:5]\n",
    "print \"One to four:\", one_to_four\n",
    "last_three = x[-3:]\n",
    "print \"Last Three:\", last_three\n",
    "without_first_and_last=x[1:-1]\n",
    "print \"Without first and last:\", without_first_and_last\n",
    "copy_of_x = x[:]\n",
    "print \"List copy of list x: \", copy_of_x"
   ]
  },
  {
   "cell_type": "code",
   "execution_count": 39,
   "metadata": {},
   "outputs": [
    {
     "name": "stdout",
     "output_type": "stream",
     "text": [
      "True\n",
      "False\n"
     ]
    }
   ],
   "source": [
    "#check for list membership\n",
    "\"\"\"This check involves examining the elements of the list one at a time, which means that\n",
    "you probably shouldn’t use it unless you know your list is pretty small \"\"\"\n",
    "print 1 in [1, 2, 3]\n",
    "print 0 in [1, 2, 3]"
   ]
  },
  {
   "cell_type": "code",
   "execution_count": 40,
   "metadata": {},
   "outputs": [
    {
     "data": {
      "text/plain": [
       "[1, 2, 3, 4, 5, 6]"
      ]
     },
     "execution_count": 40,
     "metadata": {},
     "output_type": "execute_result"
    }
   ],
   "source": [
    "#extending your list\n",
    "x = [1, 2, 3]\n",
    "x.extend([4, 5, 6])\n",
    "x"
   ]
  },
  {
   "cell_type": "code",
   "execution_count": 41,
   "metadata": {},
   "outputs": [
    {
     "name": "stdout",
     "output_type": "stream",
     "text": [
      "x is :  [1, 2, 3]\n",
      "y is :  [1, 2, 3, 4, 5, 6]\n"
     ]
    }
   ],
   "source": [
    "#If you don’t want to modify\n",
    "x = [1, 2, 3]\n",
    "y = x + [4, 5, 6]\n",
    "print \"x is : \", x\n",
    "print \"y is : \", y"
   ]
  },
  {
   "cell_type": "code",
   "execution_count": 56,
   "metadata": {},
   "outputs": [
    {
     "name": "stdout",
     "output_type": "stream",
     "text": [
      " X is : [1, 2, 3, 0]\n",
      "Last item x is : 0\n",
      "Size of list x is:  4\n",
      "y is  [7, 8]\n",
      "Size of list y is:  [7, 8]\n",
      "Appending y into list x\n",
      "Now list x is:  [1, 2, 3, 0, [7, 8]]\n",
      "Size of list x now is :  5\n"
     ]
    }
   ],
   "source": [
    "#More frequently we will append to lists one item at a time\n",
    "x = [1, 2, 3]\n",
    "x.append(0)\n",
    "print \"X is :\", x\n",
    "print \"Last item x is :\", x[-1]\n",
    "print \"Size of list x is: \", len(x)\n",
    "y=[7,8]\n",
    "print \"y is \", y\n",
    "print \"Size of list y is: \", y\n",
    "print \"Appending y into list x\"\n",
    "x.append(y)\n",
    "print \"Now list x is: \", x\n",
    "print \"Size of list x now is : \", len(x)"
   ]
  },
  {
   "cell_type": "code",
   "execution_count": 57,
   "metadata": {},
   "outputs": [
    {
     "name": "stdout",
     "output_type": "stream",
     "text": [
      "Last item into of the x list is: [7, 8]\n",
      "remove last item from the list x\n",
      "Last item into x list is 0\n",
      "Size of list x now is :  4\n"
     ]
    }
   ],
   "source": [
    "#remove item from list\n",
    "print \"Last item into of the x list is:\", x[-1]\n",
    "print \"remove last item from the list x\"\n",
    "del x[-1]\n",
    "print \"Last item into x list is\", x[-1]\n",
    "print \"Size of list x now is : \", len(x)"
   ]
  },
  {
   "cell_type": "code",
   "execution_count": 58,
   "metadata": {},
   "outputs": [
    {
     "name": "stdout",
     "output_type": "stream",
     "text": [
      "1 2\n"
     ]
    }
   ],
   "source": [
    "#unpacking list \n",
    "a,b =  [1,2]\n",
    "print a, b"
   ]
  },
  {
   "cell_type": "code",
   "execution_count": 62,
   "metadata": {},
   "outputs": [
    {
     "name": "stdout",
     "output_type": "stream",
     "text": [
      "2\n"
     ]
    }
   ],
   "source": [
    "#by convention use an underscore for a value you're going to throw away\n",
    "_,b = [1,2]\n",
    "print b"
   ]
  },
  {
   "cell_type": "markdown",
   "metadata": {},
   "source": [
    "# Tuples\n",
    "\n",
    "#### Tuples are lists’ immutable cousins."
   ]
  },
  {
   "cell_type": "code",
   "execution_count": 64,
   "metadata": {},
   "outputs": [
    {
     "name": "stdout",
     "output_type": "stream",
     "text": [
      "My list [1, 2]\n",
      "My changed list: [1, 3]\n",
      "Cannot change tuples values\n"
     ]
    }
   ],
   "source": [
    "my_list = [1,2]\n",
    "print \"My list\", my_list\n",
    "my_tuples = (1,2)\n",
    "other_tuples = 3,4 #unpacked tuples\n",
    "my_list[1] = 3\n",
    "print \"My changed list:\", my_list\n",
    "\n",
    "try:\n",
    "    my_tuples[1] = 3 #trying change tuples value\n",
    "except TypeError:\n",
    "    print \"Cannot change tuples values\"\n"
   ]
  },
  {
   "cell_type": "code",
   "execution_count": 65,
   "metadata": {},
   "outputs": [
    {
     "name": "stdout",
     "output_type": "stream",
     "text": [
      "sp is :  (5, 6)\n",
      "s is 15 and p is 50: \n"
     ]
    }
   ],
   "source": [
    "#tuples are a convenient way to return multiples values from functions\n",
    "def sum_and_product(x, y):\n",
    "    return (x + y), (x * y)\n",
    "\n",
    "sp =  sum_and_product(2,3)\n",
    "s, p = sum_and_product(5, 10)\n",
    "\n",
    "print \"sp is : \", sp\n",
    "print \"s is {} and p is {}: \".format(s,p)"
   ]
  },
  {
   "cell_type": "code",
   "execution_count": 66,
   "metadata": {},
   "outputs": [
    {
     "name": "stdout",
     "output_type": "stream",
     "text": [
      "x is 1 and y is 2: \n",
      "Pythonic way to swap variables values\n",
      "X now is 2 and y now is 1\n"
     ]
    }
   ],
   "source": [
    "#Tuples (and lists) can also be used for multiple assignment:\n",
    "x, y = 1,2\n",
    "print \"x is {} and y is {}: \".format(x, y)\n",
    "print \"Pythonic way to swap variables values\"\n",
    "x , y = y , x\n",
    "print \"X now is {} and y now is {}\".format(x,y)"
   ]
  },
  {
   "cell_type": "markdown",
   "metadata": {},
   "source": [
    "# Dictionaries\n",
    "#### Dictionaries are a type maps, wich associates values with keys and alows you to quickly retrieve the value corresponding to a given key"
   ]
  },
  {
   "cell_type": "code",
   "execution_count": null,
   "metadata": {},
   "outputs": [],
   "source": []
  }
 ],
 "metadata": {
  "kernelspec": {
   "display_name": "Python 2",
   "language": "python",
   "name": "python2"
  },
  "language_info": {
   "codemirror_mode": {
    "name": "ipython",
    "version": 2
   },
   "file_extension": ".py",
   "mimetype": "text/x-python",
   "name": "python",
   "nbconvert_exporter": "python",
   "pygments_lexer": "ipython2",
   "version": "2.7.13"
  }
 },
 "nbformat": 4,
 "nbformat_minor": 2
}
